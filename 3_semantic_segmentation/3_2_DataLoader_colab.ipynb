{
  "nbformat": 4,
  "nbformat_minor": 0,
  "metadata": {
    "kernelspec": {
      "display_name": "Python 3",
      "language": "python",
      "name": "python3"
    },
    "language_info": {
      "codemirror_mode": {
        "name": "ipython",
        "version": 3
      },
      "file_extension": ".py",
      "mimetype": "text/x-python",
      "name": "python",
      "nbconvert_exporter": "python",
      "pygments_lexer": "ipython3",
      "version": "3.6.5"
    },
    "colab": {
      "name": "3-2_DataLoader.ipynb",
      "provenance": [],
      "toc_visible": true,
      "include_colab_link": true
    }
  },
  "cells": [
    {
      "cell_type": "markdown",
      "metadata": {
        "id": "view-in-github",
        "colab_type": "text"
      },
      "source": [
        "<a href=\"https://colab.research.google.com/github/ryamaguchi0111/pytorch_advanced/blob/master/3_semantic_segmentation/3_2_DataLoader_colab.ipynb\" target=\"_parent\"><img src=\"https://colab.research.google.com/assets/colab-badge.svg\" alt=\"Open In Colab\"/></a>"
      ]
    },
    {
      "cell_type": "markdown",
      "metadata": {
        "id": "hMYpheQojsMr"
      },
      "source": [
        "# 3.2 DataLoaderの作成\n",
        "\n",
        "- 本ファイルでは、PSPNetなどセマンティックセグメンテーション用のDatasetとDataLoaderを作成します。VOC2012データセットを対象とします。\n"
      ]
    },
    {
      "cell_type": "markdown",
      "metadata": {
        "id": "THhhLfLqjsMs"
      },
      "source": [
        "# 学習目標\n",
        "\n",
        "1.\tセマンティックセグメンテーションで使用するDatasetクラス、DataLoaderクラスを作成できるようになる\n",
        "2.\tPSPNetの前処理およびデータオーギュメンテーションの処理内容を理解する"
      ]
    },
    {
      "cell_type": "markdown",
      "metadata": {
        "id": "h9t_yI9VjsMt"
      },
      "source": [
        "# 事前準備\n",
        "\n",
        "- 書籍の指示に従い、本章で使用するデータをダウンロードします。\n"
      ]
    },
    {
      "cell_type": "code",
      "metadata": {
        "id": "1YinFaOZjsMt"
      },
      "source": [
        "# パッケージのimport\n",
        "import os.path as osp\n",
        "from PIL import Image\n",
        "\n",
        "import torch.utils.data as data"
      ],
      "execution_count": 2,
      "outputs": []
    },
    {
      "cell_type": "code",
      "metadata": {
        "id": "P8ZhdNI-1U8f",
        "outputId": "545a8185-08db-48ee-da4b-37dee27df8c0",
        "colab": {
          "base_uri": "https://localhost:8080/"
        }
      },
      "source": [
        "from google.colab import drive\n",
        "drive.mount('/content/drive')"
      ],
      "execution_count": 3,
      "outputs": [
        {
          "output_type": "stream",
          "text": [
            "Mounted at /content/drive\n"
          ],
          "name": "stdout"
        }
      ]
    },
    {
      "cell_type": "code",
      "metadata": {
        "id": "sdCL0muc1Sts"
      },
      "source": [
        "PATH = '/content/drive/My Drive/semantic_segmentation/'"
      ],
      "execution_count": 5,
      "outputs": []
    },
    {
      "cell_type": "markdown",
      "metadata": {
        "id": "v-2IR2GWjsM0"
      },
      "source": [
        "# 画像データ、アノテーションデータへのファイルパスのリストを作成"
      ]
    },
    {
      "cell_type": "code",
      "metadata": {
        "id": "gC2ER5awjsM1"
      },
      "source": [
        "\n",
        "def make_datapath_list(rootpath):\n",
        "    \"\"\"\n",
        "    学習、検証の画像データとアノテーションデータへのファイルパスリストを作成する。\n",
        "\n",
        "    Parameters\n",
        "    ----------\n",
        "    rootpath : str\n",
        "        データフォルダへのパス\n",
        "\n",
        "    Returns\n",
        "    -------\n",
        "    ret : train_img_list, train_anno_list, val_img_list, val_anno_list\n",
        "        データへのパスを格納したリスト\n",
        "    \"\"\"\n",
        "\n",
        "    # 画像ファイルとアノテーションファイルへのパスのテンプレートを作成\n",
        "    imgpath_template = osp.join(rootpath, 'JPEGImages', '%s.jpg')\n",
        "    annopath_template = osp.join(rootpath, 'SegmentationClass', '%s.png')\n",
        "\n",
        "    # 訓練と検証、それぞれのファイルのID（ファイル名）を取得する\n",
        "    train_id_names = osp.join(rootpath + 'ImageSets/Segmentation/train.txt')\n",
        "    val_id_names = osp.join(rootpath + 'ImageSets/Segmentation/val.txt')\n",
        "\n",
        "    # 訓練データの画像ファイルとアノテーションファイルへのパスリストを作成\n",
        "    train_img_list = list()\n",
        "    train_anno_list = list()\n",
        "\n",
        "    for line in open(train_id_names):\n",
        "        file_id = line.strip()  # 空白スペースと改行を除去\n",
        "        img_path = (imgpath_template % file_id)  # 画像のパス\n",
        "        anno_path = (annopath_template % file_id)  # アノテーションのパス\n",
        "        train_img_list.append(img_path)\n",
        "        train_anno_list.append(anno_path)\n",
        "\n",
        "    # 検証データの画像ファイルとアノテーションファイルへのパスリストを作成\n",
        "    val_img_list = list()\n",
        "    val_anno_list = list()\n",
        "\n",
        "    for line in open(val_id_names):\n",
        "        file_id = line.strip()  # 空白スペースと改行を除去\n",
        "        img_path = (imgpath_template % file_id)  # 画像のパス\n",
        "        anno_path = (annopath_template % file_id)  # アノテーションのパス\n",
        "        val_img_list.append(img_path)\n",
        "        val_anno_list.append(anno_path)\n",
        "\n",
        "    return train_img_list, train_anno_list, val_img_list, val_anno_list\n"
      ],
      "execution_count": 6,
      "outputs": []
    },
    {
      "cell_type": "code",
      "metadata": {
        "id": "cJ3tarc8jsM4",
        "outputId": "90c77124-f9c3-40d8-cbba-fd0f551a2d7b",
        "colab": {
          "base_uri": "https://localhost:8080/"
        }
      },
      "source": [
        "# 動作確認 ファイルパスのリストを取得\n",
        "rootpath = PATH  + \"data/VOCdevkit/VOC2012/\"\n",
        "\n",
        "train_img_list, train_anno_list, val_img_list, val_anno_list = make_datapath_list(\n",
        "    rootpath=rootpath)\n",
        "\n",
        "print(train_img_list[0])\n",
        "print(train_anno_list[0])\n"
      ],
      "execution_count": 7,
      "outputs": [
        {
          "output_type": "stream",
          "text": [
            "/content/drive/My Drive/semantic_segmentation/data/VOCdevkit/VOC2012/JPEGImages/2007_000032.jpg\n",
            "/content/drive/My Drive/semantic_segmentation/data/VOCdevkit/VOC2012/SegmentationClass/2007_000032.png\n"
          ],
          "name": "stdout"
        }
      ]
    },
    {
      "cell_type": "markdown",
      "metadata": {
        "id": "nLTvj7AwjsM-"
      },
      "source": [
        "# Datasetの作成"
      ]
    },
    {
      "cell_type": "code",
      "metadata": {
        "id": "BSH7tWlK4H9V"
      },
      "source": [
        "import sys\n",
        "sys.path.append('/content/drive/My Drive/semantic_segmentation/')"
      ],
      "execution_count": 10,
      "outputs": []
    },
    {
      "cell_type": "code",
      "metadata": {
        "id": "JSso657QjsM_"
      },
      "source": [
        "# データ処理のクラスとデータオーギュメンテーションのクラスをimportする\n",
        "from utils.data_augumentation import Compose, Scale, RandomRotation, RandomMirror, Resize, Normalize_Tensor\n",
        "\n",
        "\n",
        "class DataTransform():\n",
        "    \"\"\"\n",
        "    画像とアノテーションの前処理クラス。訓練時と検証時で異なる動作をする。\n",
        "    画像のサイズをinput_size x input_sizeにする。\n",
        "    訓練時はデータオーギュメンテーションする。\n",
        "\n",
        "\n",
        "    Attributes\n",
        "    ----------\n",
        "    input_size : int\n",
        "        リサイズ先の画像の大きさ。\n",
        "    color_mean : (R, G, B)\n",
        "        各色チャネルの平均値。\n",
        "    color_std : (R, G, B)\n",
        "        各色チャネルの標準偏差。\n",
        "    \"\"\"\n",
        "\n",
        "    def __init__(self, input_size, color_mean, color_std):\n",
        "        self.data_transform = {\n",
        "            'train': Compose([\n",
        "                Scale(scale=[0.5, 1.5]),  # 画像の拡大\n",
        "                RandomRotation(angle=[-10, 10]),  # 回転\n",
        "                RandomMirror(),  # ランダムミラー\n",
        "                Resize(input_size),  # リサイズ(input_size)\n",
        "                Normalize_Tensor(color_mean, color_std)  # 色情報の標準化とテンソル化\n",
        "            ]),\n",
        "            'val': Compose([\n",
        "                Resize(input_size),  # リサイズ(input_size)\n",
        "                Normalize_Tensor(color_mean, color_std)  # 色情報の標準化とテンソル化\n",
        "            ])\n",
        "        }\n",
        "\n",
        "    def __call__(self, phase, img, anno_class_img):\n",
        "        \"\"\"\n",
        "        Parameters\n",
        "        ----------\n",
        "        phase : 'train' or 'val'\n",
        "            前処理のモードを指定。\n",
        "        \"\"\"\n",
        "        return self.data_transform[phase](img, anno_class_img)\n"
      ],
      "execution_count": 11,
      "outputs": []
    },
    {
      "cell_type": "code",
      "metadata": {
        "id": "mQNnIeFjjsNH"
      },
      "source": [
        "class VOCDataset(data.Dataset):\n",
        "    \"\"\"\n",
        "    VOC2012のDatasetを作成するクラス。PyTorchのDatasetクラスを継承。\n",
        "\n",
        "    Attributes\n",
        "    ----------\n",
        "    img_list : リスト\n",
        "        画像のパスを格納したリスト\n",
        "    anno_list : リスト\n",
        "        アノテーションへのパスを格納したリスト\n",
        "    phase : 'train' or 'test'\n",
        "        学習か訓練かを設定する。\n",
        "    transform : object\n",
        "        前処理クラスのインスタンス\n",
        "    \"\"\"\n",
        "\n",
        "    def __init__(self, img_list, anno_list, phase, transform):\n",
        "        self.img_list = img_list\n",
        "        self.anno_list = anno_list\n",
        "        self.phase = phase\n",
        "        self.transform = transform\n",
        "\n",
        "    def __len__(self):\n",
        "        '''画像の枚数を返す'''\n",
        "        return len(self.img_list)\n",
        "\n",
        "    def __getitem__(self, index):\n",
        "        '''\n",
        "        前処理をした画像のTensor形式のデータとアノテーションを取得\n",
        "        '''\n",
        "        img, anno_class_img = self.pull_item(index)\n",
        "        return img, anno_class_img\n",
        "\n",
        "    def pull_item(self, index):\n",
        "        '''画像のTensor形式のデータ、アノテーションを取得する'''\n",
        "\n",
        "        # 1. 画像読み込み\n",
        "        image_file_path = self.img_list[index]\n",
        "        img = Image.open(image_file_path)   # [高さ][幅][色RGB]\n",
        "\n",
        "        # 2. アノテーション画像読み込み\n",
        "        anno_file_path = self.anno_list[index]\n",
        "        anno_class_img = Image.open(anno_file_path)   # [高さ][幅]\n",
        "\n",
        "        # 3. 前処理を実施\n",
        "        img, anno_class_img = self.transform(self.phase, img, anno_class_img)\n",
        "\n",
        "        return img, anno_class_img\n"
      ],
      "execution_count": 12,
      "outputs": []
    },
    {
      "cell_type": "code",
      "metadata": {
        "id": "lntXbzhxjsNK",
        "outputId": "64d9e5a4-d2a9-4232-8b5f-f5708477438d",
        "colab": {
          "base_uri": "https://localhost:8080/"
        }
      },
      "source": [
        "# 動作確認\n",
        "\n",
        "# (RGB)の色の平均値と標準偏差\n",
        "color_mean = (0.485, 0.456, 0.406)\n",
        "color_std = (0.229, 0.224, 0.225)\n",
        "\n",
        "# データセット作成\n",
        "train_dataset = VOCDataset(train_img_list, train_anno_list, phase=\"train\", transform=DataTransform(\n",
        "    input_size=475, color_mean=color_mean, color_std=color_std))\n",
        "\n",
        "val_dataset = VOCDataset(val_img_list, val_anno_list, phase=\"val\", transform=DataTransform(\n",
        "    input_size=475, color_mean=color_mean, color_std=color_std))\n",
        "\n",
        "# データの取り出し例\n",
        "print(val_dataset.__getitem__(0)[0].shape)\n",
        "print(val_dataset.__getitem__(0)[1].shape)\n",
        "print(val_dataset.__getitem__(0))\n"
      ],
      "execution_count": 14,
      "outputs": [
        {
          "output_type": "stream",
          "text": [
            "torch.Size([3, 475, 475])\n",
            "torch.Size([475, 475])\n",
            "(tensor([[[ 1.6667,  1.5125,  1.5639,  ...,  1.7523,  1.6667,  1.7009],\n",
            "         [ 1.5810,  1.4269,  1.4783,  ...,  1.7009,  1.6153,  1.6495],\n",
            "         [ 1.5639,  1.4098,  1.4440,  ...,  1.6838,  1.5982,  1.6324],\n",
            "         ...,\n",
            "         [-0.4739, -0.4911, -0.5424,  ...,  1.2557,  1.1872,  1.2214],\n",
            "         [-0.5596, -0.4911, -0.4911,  ...,  1.2385,  1.1872,  1.2214],\n",
            "         [-0.6281, -0.3883, -0.3369,  ...,  1.2385,  1.1872,  1.2214]],\n",
            "\n",
            "        [[ 1.8333,  1.6758,  1.7283,  ...,  1.9209,  1.8333,  1.8683],\n",
            "         [ 1.7458,  1.5882,  1.6408,  ...,  1.8683,  1.7808,  1.8158],\n",
            "         [ 1.7283,  1.5707,  1.6057,  ...,  1.8508,  1.7633,  1.7983],\n",
            "         ...,\n",
            "         [-0.5826, -0.6001, -0.6527,  ...,  1.4132,  1.3431,  1.3431],\n",
            "         [-0.6702, -0.6001, -0.6001,  ...,  1.3957,  1.3431,  1.3431],\n",
            "         [-0.7402, -0.4951, -0.4426,  ...,  1.3957,  1.3431,  1.3431]],\n",
            "\n",
            "        [[ 2.0474,  1.8905,  1.9428,  ...,  2.1346,  2.0474,  2.0823],\n",
            "         [ 1.9603,  1.8034,  1.8557,  ...,  2.0823,  1.9951,  2.0300],\n",
            "         [ 1.9428,  1.7860,  1.8208,  ...,  2.0648,  1.9777,  2.0125],\n",
            "         ...,\n",
            "         [-0.6367, -0.6541, -0.7064,  ...,  1.6291,  1.5594,  1.5768],\n",
            "         [-0.7238, -0.6541, -0.6541,  ...,  1.6117,  1.5594,  1.5768],\n",
            "         [-0.7936, -0.5495, -0.4973,  ...,  1.6117,  1.5594,  1.5768]]]), tensor([[0, 0, 0,  ..., 0, 0, 0],\n",
            "        [0, 0, 0,  ..., 0, 0, 0],\n",
            "        [0, 0, 0,  ..., 0, 0, 0],\n",
            "        ...,\n",
            "        [0, 0, 0,  ..., 0, 0, 0],\n",
            "        [0, 0, 0,  ..., 0, 0, 0],\n",
            "        [0, 0, 0,  ..., 0, 0, 0]], dtype=torch.uint8))\n"
          ],
          "name": "stdout"
        }
      ]
    },
    {
      "cell_type": "markdown",
      "metadata": {
        "id": "bO5ixb1FjsNO"
      },
      "source": [
        "# DataLoaderを作成"
      ]
    },
    {
      "cell_type": "code",
      "metadata": {
        "id": "22fHNqBljsNP",
        "outputId": "1cb86e08-97be-4df9-d202-2a2e64be969d",
        "colab": {
          "base_uri": "https://localhost:8080/"
        }
      },
      "source": [
        "# データローダーの作成\n",
        "\n",
        "batch_size = 8\n",
        "\n",
        "train_dataloader = data.DataLoader(\n",
        "    train_dataset, batch_size=batch_size, shuffle=True)\n",
        "\n",
        "val_dataloader = data.DataLoader(\n",
        "    val_dataset, batch_size=batch_size, shuffle=False)\n",
        "\n",
        "# 辞書オブジェクトにまとめる\n",
        "dataloaders_dict = {\"train\": train_dataloader, \"val\": val_dataloader}\n",
        "\n",
        "# 動作の確認\n",
        "batch_iterator = iter(dataloaders_dict[\"val\"])  # イタレータに変換\n",
        "imges, anno_class_imges = next(batch_iterator)  # 1番目の要素を取り出す\n",
        "print(imges.size())  # torch.Size([8, 3, 475, 475])\n",
        "print(anno_class_imges.size())  # torch.Size([8, 3, 475, 475])\n"
      ],
      "execution_count": 15,
      "outputs": [
        {
          "output_type": "stream",
          "text": [
            "torch.Size([8, 3, 475, 475])\n",
            "torch.Size([8, 475, 475])\n"
          ],
          "name": "stdout"
        }
      ]
    },
    {
      "cell_type": "markdown",
      "metadata": {
        "id": "cpaeOjQujsNV"
      },
      "source": [
        "以上"
      ]
    },
    {
      "cell_type": "markdown",
      "metadata": {
        "id": "RvR-llqAjsNW"
      },
      "source": [
        "# （付録）Datasetから画像を取り出し、描画する"
      ]
    },
    {
      "cell_type": "code",
      "metadata": {
        "id": "DeCrnP5DjsNX"
      },
      "source": [
        "import numpy as np\n",
        "import matplotlib.pyplot as plt\n",
        "%matplotlib inline\n"
      ],
      "execution_count": 16,
      "outputs": []
    },
    {
      "cell_type": "markdown",
      "metadata": {
        "id": "6qU6Qi2MjsNa"
      },
      "source": [
        "## 訓練画像の描画"
      ]
    },
    {
      "cell_type": "code",
      "metadata": {
        "id": "xwIQrzCKjsNb",
        "outputId": "baf89999-1835-446f-e701-05c5b018206b",
        "colab": {
          "base_uri": "https://localhost:8080/",
          "height": 538
        }
      },
      "source": [
        "# 実行するたびに変わります\n",
        "\n",
        "# 画像データの読み込み\n",
        "index = 0\n",
        "imges, anno_class_imges = train_dataset.__getitem__(index)\n",
        "\n",
        "# 画像の表示\n",
        "img_val = imges\n",
        "img_val = img_val.numpy().transpose((1, 2, 0))\n",
        "plt.imshow(img_val)\n",
        "plt.show()\n",
        "\n",
        "# アノテーション画像の表示\n",
        "anno_file_path = train_anno_list[0]\n",
        "anno_class_img = Image.open(anno_file_path)   # [高さ][幅][色RGB]\n",
        "p_palette = anno_class_img.getpalette()\n",
        "\n",
        "anno_class_img_val = anno_class_imges.numpy()\n",
        "anno_class_img_val = Image.fromarray(np.uint8(anno_class_img_val), mode=\"P\")\n",
        "anno_class_img_val.putpalette(p_palette)\n",
        "plt.imshow(anno_class_img_val)\n",
        "plt.show()\n"
      ],
      "execution_count": 19,
      "outputs": [
        {
          "output_type": "stream",
          "text": [
            "Clipping input data to the valid range for imshow with RGB data ([0..1] for floats or [0..255] for integers).\n"
          ],
          "name": "stderr"
        },
        {
          "output_type": "display_data",
          "data": {
            "image/png": "[encoded data removed]",
            "text/plain": [
              "<Figure size 432x288 with 1 Axes>"
            ]
          },
          "metadata": {
            "tags": [],
            "needs_background": "light"
          }
        },
        {
          "output_type": "display_data",
          "data": {
            "image/png": "[encoded data removed]",
            "text/plain": [
              "<Figure size 432x288 with 1 Axes>"
            ]
          },
          "metadata": {
            "tags": [],
            "needs_background": "light"
          }
        }
      ]
    },
    {
      "cell_type": "markdown",
      "metadata": {
        "id": "0vBwufgNjsNf"
      },
      "source": [
        "## 検証画像の描画"
      ]
    },
    {
      "cell_type": "code",
      "metadata": {
        "id": "astkEy9EjsNg",
        "outputId": "0c010ab0-16da-40f0-fe57-4118c66a4829",
        "colab": {
          "base_uri": "https://localhost:8080/",
          "height": 538
        }
      },
      "source": [
        "# 画像データの読み込み\n",
        "index = 0\n",
        "imges, anno_class_imges = val_dataset.__getitem__(index)\n",
        "\n",
        "# 画像の表示\n",
        "img_val = imges\n",
        "img_val = img_val.numpy().transpose((1, 2, 0))\n",
        "plt.imshow(img_val)\n",
        "plt.show()\n",
        "\n",
        "# アノテーション画像の表示\n",
        "anno_file_path = train_anno_list[0]\n",
        "anno_class_img = Image.open(anno_file_path)   # [高さ][幅][色RGB]\n",
        "p_palette = anno_class_img.getpalette()\n",
        "\n",
        "anno_class_img_val = anno_class_imges.numpy()\n",
        "anno_class_img_val = Image.fromarray(np.uint8(anno_class_img_val), mode=\"P\")\n",
        "anno_class_img_val.putpalette(p_palette)\n",
        "plt.imshow(anno_class_img_val)\n",
        "plt.show()\n"
      ],
      "execution_count": 24,
      "outputs": [
        {
          "output_type": "stream",
          "text": [
            "Clipping input data to the valid range for imshow with RGB data ([0..1] for floats or [0..255] for integers).\n"
          ],
          "name": "stderr"
        },
        {
          "output_type": "display_data",
          "data": {
            "image/png": "[encoded data removed]",
            "text/plain": [
              "<Figure size 432x288 with 1 Axes>"
            ]
          },
          "metadata": {
            "tags": [],
            "needs_background": "light"
          }
        },
        {
          "output_type": "display_data",
          "data": {
            "image/png": "[encoded data removed]",
            "text/plain": [
              "<Figure size 432x288 with 1 Axes>"
            ]
          },
          "metadata": {
            "tags": [],
            "needs_background": "light"
          }
        }
      ]
    },
    {
      "cell_type": "code",
      "metadata": {
        "id": "y1epLfzJ7sNW",
        "outputId": "05a1612a-f56d-4c2f-b6eb-0bbd53c0cb73",
        "colab": {
          "base_uri": "https://localhost:8080/",
          "height": 404
        }
      },
      "source": [
        "print(anno_class_imges.numpy()[100:200, :100])\n",
        "plt.imshow(anno_class_imges.numpy()[100:200,:100])"
      ],
      "execution_count": 42,
      "outputs": [
        {
          "output_type": "stream",
          "text": [
            "[[0 0 0 ... 0 0 0]\n",
            " [0 0 0 ... 0 0 0]\n",
            " [0 0 0 ... 0 0 0]\n",
            " ...\n",
            " [0 0 0 ... 1 1 1]\n",
            " [0 0 0 ... 1 1 1]\n",
            " [0 0 0 ... 1 1 1]]\n"
          ],
          "name": "stdout"
        },
        {
          "output_type": "execute_result",
          "data": {
            "text/plain": [
              "<matplotlib.image.AxesImage at 0x7f85a9cf5780>"
            ]
          },
          "metadata": {
            "tags": []
          },
          "execution_count": 42
        },
        {
          "output_type": "display_data",
          "data": {
            "image/png": "[encoded data removed]",
            "text/plain": [
              "<Figure size 432x288 with 1 Axes>"
            ]
          },
          "metadata": {
            "tags": [],
            "needs_background": "light"
          }
        }
      ]
    },
    {
      "cell_type": "markdown",
      "metadata": {
        "id": "kieOdWrEjsNt"
      },
      "source": [
        "以上"
      ]
    }
  ]
}